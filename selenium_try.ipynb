{
 "cells": [
  {
   "cell_type": "markdown",
   "metadata": {},
   "source": [
    "Tried with the direct Hardcoding method,just by locating the X-Path\n"
   ]
  },
  {
   "cell_type": "code",
   "execution_count": 2,
   "metadata": {},
   "outputs": [],
   "source": [
    "# Directly by hardcoding method using X-Path\n",
    "import time\n",
    "from selenium import webdriver\n",
    "#from selenium.webdriver.common.keys import Keys\n",
    "#from selenium.webdriver import ActionChains\n",
    "\n",
    "\n",
    "PATH = \"/Users/vicky/Desktop/chromedriver\"\n",
    "driver = webdriver.Chrome(PATH)\n",
    "driver.get(\"localhost:8080\")\n",
    "\n",
    "\n",
    "\n",
    "select =driver.find_element_by_xpath(\"/html/body/div/div/div/div/div/ul/li[2]\").click()\n",
    "select1 = driver.find_element_by_xpath(\"/html/body/div/div/div/div/div/ul/li[4]\").click()\n",
    "select2 =driver.find_element_by_xpath(\"/html/body/div/div/div/div/div/ul/li[3]\").click()\n",
    "select3 = driver.find_element_by_xpath(\"/html/body/div/div/div/div/div/ul/li[5]\").click()\n",
    "select4 =driver.find_element_by_xpath(\"/html/body/div/div/div/div/div/ul/li[7]\").click()\n",
    "submit = driver.find_element_by_xpath(\"/html/body/div/div/div/div/button\").click()"
   ]
  },
  {
   "cell_type": "code",
   "execution_count": 3,
   "metadata": {},
   "outputs": [],
   "source": [
    "from time import sleep\n",
    "from random import uniform\n",
    "from selenium import webdriver\n",
    "from selenium.webdriver.common.by import By\n",
    "from selenium.webdriver.common.keys import Keys\n",
    "from selenium.webdriver.support.wait import WebDriverWait\n",
    "from selenium.webdriver.common.action_chains import ActionChains\n",
    "from selenium.webdriver.support import expected_conditions as EC\n",
    "\n",
    "\n",
    "\n",
    "\n",
    "PATH = \"/Users/vicky/Desktop/chromedriver\"\n",
    "driver = webdriver.Chrome(PATH)\n",
    "driver.get(\"localhost:8080\")\n",
    "\n",
    "\n",
    "def Action(element):  \n",
    "    Act = ActionChains(driver).move_to_element(element)\n",
    "    Act.perform()\n",
    "    \n",
    "\n",
    "CheckBox1 = WebDriverWait(driver, 10).until(\n",
    "        EC.visibility_of_element_located((By.XPATH ,(\"/html/body/div/div/div/div/div/ul/li[2]\")))\n",
    "        )\n",
    "CheckBox2 = WebDriverWait(driver, 10).until(\n",
    "        EC.visibility_of_element_located((By.XPATH ,(\"/html/body/div/div/div/div/div/ul/li[3]\")))\n",
    "        )\n",
    "CheckBox3 = WebDriverWait(driver, 10).until(\n",
    "        EC.visibility_of_element_located((By.XPATH ,(\"/html/body/div/div/div/div/div/ul/li[4]\")))\n",
    "        )\n",
    "CheckBox4 = WebDriverWait(driver, 10).until(\n",
    "        EC.visibility_of_element_located((By.XPATH ,(\"/html/body/div/div/div/div/div/ul/li[5]\")))\n",
    "        )\n",
    "CheckBox5 = WebDriverWait(driver, 10).until(\n",
    "        EC.visibility_of_element_located((By.XPATH ,(\"/html/body/div/div/div/div/div/ul/li[6]\")))\n",
    "        )\n",
    "CheckBox6 = WebDriverWait(driver, 10).until(\n",
    "        EC.visibility_of_element_located((By.XPATH ,(\"/html/body/div/div/div/div/div/ul/li[7]\")))\n",
    "        )\n",
    "CheckBox7 = WebDriverWait(driver, 10).until(\n",
    "        EC.visibility_of_element_located((By.XPATH ,(\"/html/body/div/div/div/div/div/ul/li[8]\")))\n",
    "        )\n",
    "CheckBox8 = WebDriverWait(driver, 10).until(\n",
    "        EC.visibility_of_element_located((By.XPATH ,(\"/html/body/div/div/div/div/div/ul/li[9]\")))\n",
    "        )\n",
    "CheckBox9 = WebDriverWait(driver, 10).until(\n",
    "        EC.visibility_of_element_located((By.XPATH ,(\"/html/body/div/div/div/div/div/ul/li[1]\")))\n",
    "        )\n",
    "Submit = WebDriverWait(driver, 10).until(\n",
    "        EC.presence_of_element_located((By.XPATH,'/html/body/div/div/div/div/button'))\n",
    "        )\n",
    "\n",
    "Action(CheckBox1)\n",
    "Action(CheckBox2)\n",
    "Action(CheckBox3)\n",
    "Action(CheckBox4)\n",
    "Action(CheckBox5)\n",
    "Action(CheckBox6)\n",
    "Action(CheckBox7)\n",
    "Action(CheckBox8)\n",
    "Action(CheckBox9)\n",
    "Action(Submit)\n",
    "\n",
    "clickReturn= CheckBox1.click()\n",
    "clickReturn= CheckBox2.click()\n",
    "clickReturn= CheckBox3.click()\n",
    "clickReturn= CheckBox4.click()\n",
    "clickReturn= CheckBox6.click()\n",
    "clickReturn= Submit.click()\n",
    " \n",
    "sleep(1)\n",
    "driver.quit()\n",
    "\n"
   ]
  },
  {
   "cell_type": "markdown",
   "metadata": {},
   "source": [
    "Tried with move_to element method"
   ]
  },
  {
   "cell_type": "code",
   "execution_count": 4,
   "metadata": {},
   "outputs": [],
   "source": [
    "#Try with move_to_element\n",
    "PATH = \"/Users/vicky/Desktop/chromedriver\"\n",
    "driver = webdriver.Chrome(PATH)\n",
    "driver.get(\"localhost:8080\")\n",
    "\n",
    "actionChains = ActionChains(driver)\n",
    "element = WebDriverWait(driver, 10).until(\n",
    "EC.presence_of_element_located((By.CLASS_NAME, \"checkbox\")))\n",
    "actionChains.move_to_element(element).click_and_hold(on_element = element)\n",
    "\n",
    "element1 = WebDriverWait(driver, 10).until(\n",
    "EC.presence_of_element_located((By.XPATH, \"/html/body/div/div/div/div/div/ul/li[1]\")))\n",
    "actionChains.move_to_element(element1).click().perform()\n",
    "\n",
    "element2 = WebDriverWait(driver, 10).until(\n",
    "EC.presence_of_element_located((By.XPATH, \"/html/body/div/div/div/div/div/ul/li[2]\")))\n",
    "actionChains.move_to_element(element2).click().perform()\n",
    "\n",
    "\n",
    "element3 = WebDriverWait(driver, 10).until(\n",
    "EC.presence_of_element_located((By.XPATH, \"/html/body/div/div/div/div/div/ul/li[3]\")))\n",
    "actionChains.move_to_element(element3).click().perform()\n",
    "\n",
    "element4 = WebDriverWait(driver, 10).until(\n",
    "EC.presence_of_element_located((By.XPATH, \"/html/body/div/div/div/div/div/ul/li[4]\")))\n",
    "actionChains.move_to_element(element4).click().perform()\n",
    "\n",
    "\n",
    "\n",
    "element6 = WebDriverWait(driver, 10).until(\n",
    "EC.presence_of_element_located((By.XPATH, \"/html/body/div/div/div/div/div/ul/li[6]\")))\n",
    "actionChains.move_to_element(element6).click().perform()\n",
    "\n",
    "\n",
    "\n",
    "element10 = WebDriverWait(driver, 10).until(\n",
    "EC.presence_of_element_located((By.XPATH, \"/html/body/div/div/div/div/button\")))\n",
    "actionChains.move_to_element(element10).click().perform()\n",
    "\n",
    "driver.quit()\n"
   ]
  },
  {
   "cell_type": "markdown",
   "metadata": {},
   "source": [
    "Tried with Action Chains "
   ]
  },
  {
   "cell_type": "code",
   "execution_count": 5,
   "metadata": {},
   "outputs": [
    {
     "ename": "SyntaxError",
     "evalue": "invalid syntax (<ipython-input-5-119a81da57da>, line 18)",
     "output_type": "error",
     "traceback": [
      "\u001b[0;36m  File \u001b[0;32m\"<ipython-input-5-119a81da57da>\"\u001b[0;36m, line \u001b[0;32m18\u001b[0m\n\u001b[0;31m    Action(CheckBox)\u001b[0m\n\u001b[0m    ^\u001b[0m\n\u001b[0;31mSyntaxError\u001b[0m\u001b[0;31m:\u001b[0m invalid syntax\n"
     ]
    }
   ],
   "source": [
    "PATH = \"/Users/vicky/Desktop/chromedriver\"\n",
    "driver = webdriver.Chrome(PATH)\n",
    "driver.get(\"localhost:8080\")\n",
    "\n",
    "\n",
    "def Action(element):  \n",
    "    Act = ActionChains(driver).move_to_element(element)\n",
    "    Act.perform()\n",
    "    \n",
    "\n",
    "pxiel1 = WebDriverWait(driver, 10).until(\n",
    "        #EC.presence_of_element_located((By.CLASS_NAME,'checkbox'))\n",
    "        EC.presence_of_element_located((By.XPATH ,(\"/html/body/div/div/div/div/div/ul/li[]\"))\n",
    "        )\n",
    "\n",
    "    \n",
    "    \n",
    "Action(CheckBox)\n",
    "\n",
    "clickReturn= CheckBox.click()\n",
    "#driver.quit()"
   ]
  },
  {
   "cell_type": "code",
   "execution_count": null,
   "metadata": {},
   "outputs": [],
   "source": []
  },
  {
   "cell_type": "code",
   "execution_count": null,
   "metadata": {},
   "outputs": [],
   "source": [
    "\n",
    "\n",
    "\n",
    "\n"
   ]
  },
  {
   "cell_type": "code",
   "execution_count": null,
   "metadata": {},
   "outputs": [],
   "source": []
  },
  {
   "cell_type": "code",
   "execution_count": null,
   "metadata": {},
   "outputs": [],
   "source": []
  },
  {
   "cell_type": "code",
   "execution_count": null,
   "metadata": {},
   "outputs": [],
   "source": []
  },
  {
   "cell_type": "code",
   "execution_count": null,
   "metadata": {},
   "outputs": [],
   "source": []
  },
  {
   "cell_type": "code",
   "execution_count": null,
   "metadata": {},
   "outputs": [],
   "source": []
  },
  {
   "cell_type": "code",
   "execution_count": null,
   "metadata": {},
   "outputs": [],
   "source": []
  },
  {
   "cell_type": "code",
   "execution_count": null,
   "metadata": {},
   "outputs": [],
   "source": [
    "select1 = driver.find_element_by_xpath(\"/html/body/div/div/div/div/div/ul/li[4]\")\n",
    "select2 =driver.find_element_by_xpath(\"/html/body/div/div/div/div/div/ul/li[3]\")\n",
    "select3 = driver.find_element_by_xpath(\"/html/body/div/div/div/div/div/ul/li[5]\")\n",
    "select4 =driver.find_element_by_xpath(\"/html/body/div/div/div/div/div/ul/li[7]\")\n",
    "submit = driver.find_element_by_xpath(\"/html/body/div/div/div/div/button\")"
   ]
  }
 ],
 "metadata": {
  "kernelspec": {
   "display_name": "Python 3",
   "language": "python",
   "name": "python3"
  },
  "language_info": {
   "codemirror_mode": {
    "name": "ipython",
    "version": 3
   },
   "file_extension": ".py",
   "mimetype": "text/x-python",
   "name": "python",
   "nbconvert_exporter": "python",
   "pygments_lexer": "ipython3",
   "version": "3.8.5"
  }
 },
 "nbformat": 4,
 "nbformat_minor": 4
}
